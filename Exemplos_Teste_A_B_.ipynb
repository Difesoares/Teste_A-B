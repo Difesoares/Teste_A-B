{
  "nbformat": 4,
  "nbformat_minor": 0,
  "metadata": {
    "colab": {
      "provenance": [],
      "authorship_tag": "ABX9TyPxWOUi7i9Vt1sO/fKfUQIz",
      "include_colab_link": true
    },
    "kernelspec": {
      "name": "python3",
      "display_name": "Python 3"
    },
    "language_info": {
      "name": "python"
    }
  },
  "cells": [
    {
      "cell_type": "markdown",
      "metadata": {
        "id": "view-in-github",
        "colab_type": "text"
      },
      "source": [
        "<a href=\"https://colab.research.google.com/github/Difesoares/Teste_A-B/blob/main/Exemplos_Teste_A_B_.ipynb\" target=\"_parent\"><img src=\"https://colab.research.google.com/assets/colab-badge.svg\" alt=\"Open In Colab\"/></a>"
      ]
    },
    {
      "cell_type": "markdown",
      "source": [
        "## **Exemplo 1**\n",
        "\n",
        "**Teste A/B para Preços**\n",
        "\n",
        "Uma empresa SaaS (Software as a Service) está considerando aumentar o preço de sua assinatura mensal de 20 reais para 25 reais. Eles testam a nova estrutura de preços em 500 visitantes e mantêm o preço antigo para outros 500 visitantes. Com o preço antigo, 200 usuários se inscreveram, enquanto com o novo preço, 180 usuários se inscreveram. O novo preço é vantajoso para a empresa?"
      ],
      "metadata": {
        "id": "grt4j-j37cyz"
      }
    },
    {
      "cell_type": "code",
      "source": [
        "import numpy as np\n",
        "from statsmodels.stats.proportion import proportions_ztest\n",
        "\n",
        "n_A = 500 # visitantes\n",
        "n_B = 500 # visitantes\n",
        "\n",
        "conversions_A = 200\n",
        "conversions_B = 180\n",
        "\n",
        "# Dados\n",
        "count = np.array([conversions_A, conversions_B])\n",
        "nobs = np.array([n_A, n_B])\n",
        "\n",
        "# Usando a função proportions_ztest\n",
        "z_value, p_value_statsmodels = proportions_ztest(count, nobs)\n",
        "\n",
        "z_value, p_value_statsmodels"
      ],
      "metadata": {
        "colab": {
          "base_uri": "https://localhost:8080/"
        },
        "id": "e9mh7xeE7dMI",
        "outputId": "8699f921-699d-4478-8887-fb8bd884544b"
      },
      "execution_count": null,
      "outputs": [
        {
          "output_type": "execute_result",
          "data": {
            "text/plain": [
              "(1.3029938101426084, 0.19257687480088492)"
            ]
          },
          "metadata": {},
          "execution_count": 2
        }
      ]
    },
    {
      "cell_type": "markdown",
      "source": [
        "Embora tenha uma redução na taxa de conversão, essa queda do número de inscritos **não é estatisticamente significativa**. Dessa forma, se for avaliar a questão do preço, aumentando o valor da inscrição de 20 reais para 25 reais e multiplicando pelo número de inscritos, resulta em uma receita total maior.\n"
      ],
      "metadata": {
        "id": "NXVzk_vu7oGZ"
      }
    },
    {
      "cell_type": "markdown",
      "source": [
        "## **Exemplo 2**\n",
        "\n",
        "**Teste A/B para Avaliação de Design de Site**\n",
        "\n",
        "Uma empresa de e-commerce deseja avaliar se um novo design de sua página de produto leva a uma maior taxa de cliques (CTR) em seus produtos. Durante uma semana, eles mostraram o design antigo a 1.000 visitantes e o novo design a 1.000 outros visitantes. O design antigo levou a 150 cliques, enquanto o novo design levou a 180 cliques. Determine se o novo design é estatisticamente significativo."
      ],
      "metadata": {
        "id": "b8ih6HaV7GLi"
      }
    },
    {
      "cell_type": "code",
      "execution_count": null,
      "metadata": {
        "colab": {
          "base_uri": "https://localhost:8080/"
        },
        "id": "8rD8596_66Ya",
        "outputId": "1924e296-f053-4673-a2c9-ab9fe4ae82fc"
      },
      "outputs": [
        {
          "output_type": "execute_result",
          "data": {
            "text/plain": [
              "(-1.8072617084864464, 0.07072148340930397)"
            ]
          },
          "metadata": {},
          "execution_count": 1
        }
      ],
      "source": [
        "import numpy as np\n",
        "from statsmodels.stats.proportion import proportions_ztest\n",
        "\n",
        "n_A = 1000\n",
        "n_B = 1000\n",
        "conversions_A = 150\n",
        "conversions_B = 180\n",
        "\n",
        "# Dados\n",
        "count = np.array([conversions_A, conversions_B])\n",
        "nobs = np.array([n_A, n_B])\n",
        "\n",
        "# Usando a função proportions_ztest\n",
        "z_value, p_value_statsmodels = proportions_ztest(count, nobs)\n",
        "\n",
        "z_value, p_value_statsmodels"
      ]
    },
    {
      "cell_type": "markdown",
      "source": [
        "Após realizar o teste estatístico e medir a campanha... o resultado mostra que NÃO HÁ DIFERENÇA significativa entre o design antigo e o novo. Ou Seja, o design novo não irá trazer aumento de faturamento que justifique uma possível mudança no design."
      ],
      "metadata": {
        "id": "yYb5fq8d7Vj5"
      }
    },
    {
      "cell_type": "markdown",
      "source": [
        "## **Exemplo 3**\n",
        "\n",
        "**Teste A/B para Avaliação de Tempo no Site**\n",
        "\n",
        "Uma plataforma de notícias online implementou uma nova característica que sugere artigos relacionados ao usuário. Eles querem testar se essa característica aumenta o tempo médio que um usuário passa no site. Eles implementam o novo recurso para 1.500 usuários e veem um tempo médio de permanência de 5,2 minutos, com um desvio padrão de 1,5 minutos. Para 1.700 usuários sem o novo recurso, o tempo médio de permanência foi de 5 minutos com um desvio padrão de 1,4 minutos. A nova característica fez alguma diferença?\n"
      ],
      "metadata": {
        "id": "czwhEpdr73ro"
      }
    },
    {
      "cell_type": "code",
      "source": [
        "import numpy as np\n",
        "from scipy.stats import t\n",
        "\n",
        "# Dados do problema\n",
        "n1 = 1500\n",
        "mean1 = 5.2\n",
        "std_dev1 = 1.5\n",
        "\n",
        "n2 = 1700\n",
        "mean2 = 5.0\n",
        "std_dev2 = 1.4\n",
        "\n",
        "# Calculando o desvio padrão combinado (standard error)\n",
        "SE = np.sqrt((std_dev1**2 / n1) + (std_dev2**2 / n2))\n",
        "\n",
        "# Calculando o valor t\n",
        "t_value = (mean1 - mean2) / SE\n",
        "\n",
        "# Calculando os graus de liberdade usando a fórmula de Welch-Satterthwaite\n",
        "df = ((std_dev1**2 / n1) + (std_dev2**2 / n2))**2 / (((std_dev1**2 / n1)**2 / (n1 - 1)) + ((std_dev2**2 / n2)**2 / (n2 - 1)))\n",
        "\n",
        "# Calculando o p-valor\n",
        "p_value = 2 * t.sf(np.abs(t_value), df)\n",
        "\n",
        "print(\"Valor t:\", t_value)\n",
        "print(\"P-valor:\", p_value)\n",
        "print(\"Graus de liberdade:\", df)"
      ],
      "metadata": {
        "colab": {
          "base_uri": "https://localhost:8080/"
        },
        "id": "NtdvRcAm-MR6",
        "outputId": "18252b96-5fef-41d5-a700-49ba2d2cfcba"
      },
      "execution_count": null,
      "outputs": [
        {
          "output_type": "stream",
          "name": "stdout",
          "text": [
            "Valor t: 3.882989225005368\n",
            "P-valor: 0.00010534521658429599\n",
            "Graus de liberdade: 3082.3065656623558\n"
          ]
        }
      ]
    },
    {
      "cell_type": "markdown",
      "source": [
        "O p-valor muito baixo (menor que o nível de significancia comum de 0.05) indica que a diferença nos tempos médios de permanência entre os dois grupos é estatisticamente significativa. Podemos rejeitar a hipotese nula. Portanto, a implementação da nova característica fez uma diferença no tempo médio de permanência dos usuários no site."
      ],
      "metadata": {
        "id": "2xz5kzkg-v_I"
      }
    }
  ]
}